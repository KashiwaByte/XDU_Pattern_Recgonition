{
 "cells": [
  {
   "cell_type": "code",
   "execution_count": 5,
   "metadata": {},
   "outputs": [],
   "source": [
    "# -*- coding: utf-8 -*-\n",
    "# Author：KashiwaByte\n",
    "\"\"\"\n",
    "\n",
    "数据集大小分别为 (7291, 256) (7291, 1) (2007, 256) (2007, 1)\n",
    "\"\"\"\n",
    "import h5py\n",
    "import pandas as pd\n",
    "import numpy as np\n",
    "import swanlab\n",
    "import torch\n",
    "\n",
    "# 读取 USPS数据集\n",
    "def pre_handle():\n",
    "    with h5py.File( 'data/usps.h5') as hf:\n",
    "            train = hf.get('train')\n",
    "            x_train = train.get('data')[:]\n",
    "            y_train = train.get('target')[:]\n",
    "            test = hf.get('test')\n",
    "            x_test = test.get('data')[:]\n",
    "            y_test = test.get('target')[:]\n",
    "\n",
    "    train_data=pd.DataFrame(x_train)\n",
    "    train_label=pd.DataFrame(y_train)\n",
    "    test_data=pd.DataFrame(x_test)\n",
    "    test_label=pd.DataFrame(y_test)\n",
    "    return train_data,train_label,test_data,test_label\n",
    "\n",
    "\n",
    "train_data,train_label,test_data,test_label = pre_handle()\n",
    "\n",
    "\n",
    "train_data = np.mat(train_data)\n",
    "train_label = np.mat(train_label)\n",
    "test_data = np.mat(test_data)\n",
    "test_label = np.mat(test_label)\n",
    "train_label = train_label.astype(int)\n",
    "test_label = test_label.astype(int)\n",
    "\n",
    "train_data_tensor = torch.from_numpy(train_data)\n",
    "train_label_tensor = torch.from_numpy(train_label)\n",
    "test_data_tensor = torch.from_numpy(test_data)\n",
    "test_label_tensor = torch.from_numpy(test_label)\n"
   ]
  },
  {
   "cell_type": "code",
   "execution_count": 3,
   "metadata": {},
   "outputs": [
    {
     "data": {
      "text/plain": [
       "tensor([[0.0000, 0.0000, 0.0000,  ..., 0.0000, 0.0000, 0.0000],\n",
       "        [0.0000, 0.0000, 0.0000,  ..., 0.1645, 0.0860, 0.0000],\n",
       "        [0.0000, 0.0000, 0.0000,  ..., 0.0000, 0.0000, 0.0000],\n",
       "        ...,\n",
       "        [0.0000, 0.0000, 0.0000,  ..., 0.0000, 0.0000, 0.0000],\n",
       "        [0.0000, 0.0000, 0.0000,  ..., 0.0000, 0.0000, 0.0000],\n",
       "        [0.0000, 0.0000, 0.0000,  ..., 0.0000, 0.0000, 0.0000]])"
      ]
     },
     "execution_count": 3,
     "metadata": {},
     "output_type": "execute_result"
    }
   ],
   "source": [
    "train_data_tensor"
   ]
  },
  {
   "cell_type": "code",
   "execution_count": 7,
   "metadata": {},
   "outputs": [],
   "source": [
    "device = 'cuda'"
   ]
  },
  {
   "cell_type": "code",
   "execution_count": 9,
   "metadata": {},
   "outputs": [
    {
     "data": {
      "text/plain": [
       "tensor([[6],\n",
       "        [5],\n",
       "        [4],\n",
       "        ...,\n",
       "        [3],\n",
       "        [0],\n",
       "        [1]], device='cuda:0', dtype=torch.int32)"
      ]
     },
     "execution_count": 9,
     "metadata": {},
     "output_type": "execute_result"
    }
   ],
   "source": [
    "train_label_tensor.to(device)"
   ]
  },
  {
   "cell_type": "code",
   "execution_count": 12,
   "metadata": {},
   "outputs": [],
   "source": [
    "import h5py\n",
    "import pandas as pd\n",
    "import numpy as np\n",
    "import swanlab\n",
    "import torch\n",
    "\n",
    "device = \"cuda\"\n",
    "torch.cuda.set_device(0)\n",
    "# 读取 USPS数据集\n",
    "def pre_handle():\n",
    "    with h5py.File('data/usps.h5') as hf:\n",
    "            train = hf.get('train')\n",
    "            x_train = train.get('data')[:]\n",
    "            y_train = train.get('target')[:]\n",
    "            test = hf.get('test')\n",
    "            x_test = test.get('data')[:]\n",
    "            y_test = test.get('target')[:]\n",
    "\n",
    "    train_data=pd.DataFrame(x_train)\n",
    "    train_label=pd.DataFrame(y_train)\n",
    "    test_data=pd.DataFrame(x_test)\n",
    "    test_label=pd.DataFrame(y_test)\n",
    "    return train_data,train_label,test_data,test_label\n",
    "\n",
    "\n",
    "train_data,train_label,test_data,test_label = pre_handle()\n",
    "\n",
    "\n",
    "train_data = np.mat(train_data)\n",
    "train_label = np.mat(train_label)\n",
    "test_data = np.mat(test_data)\n",
    "test_label = np.mat(test_label)\n",
    "train_label = train_label.astype(int)\n",
    "test_label = test_label.astype(int)\n",
    "\n",
    "train_data_tensor = torch.from_numpy(train_data)\n",
    "train_label_tensor = torch.from_numpy(train_label)\n",
    "test_data_tensor = torch.from_numpy(test_data)\n",
    "test_label_tensor = torch.from_numpy(test_label)\n",
    "\n",
    "train_data_tensor = train_data_tensor.to(device)\n",
    "train_label_tensor = train_label_tensor.to(device)\n",
    "test_data_tensor = test_data_tensor.to(device)\n",
    "test_label_tensor = test_label_tensor.to(device)\n",
    "\n",
    "\n",
    "def k_nn(train_data_tensor,train_label_tensor,test_data_tensor,test_label_tensor):\n",
    "    accuracy = 0\n",
    "    for i in range(2007):\n",
    "        count = torch.zeros(10,device=device)\n",
    "        prediction = 0\n",
    "        distance = torch.zeros((7291,2),device=device)\n",
    "        for t in range(7291):\n",
    "            distance[t,1] = torch.norm(test_data_tensor[i]-train_data_tensor[t])\n",
    "            distance[t,0] = train_label_tensor[t]           # 储存标签和欧式距离\n",
    "       # order = distance[np.lexsort(distance.T)]    # 按最后一列排序\n",
    "        # 对最后一列进行排序，并获取排序后的索引\n",
    "        sorted_indices = torch.argsort(distance[:, -1])\n",
    "\n",
    "        # 使用这些索引来重新排序整个distances张量\n",
    "        order = distance[sorted_indices]\n",
    "        \n",
    "        for n in range(k):\n",
    "            a = order[n,0]\n",
    "            a = int(a)\n",
    "            count[a] += 1   \n",
    "        prediction = count.argmax()                           # 取出现次数最多的为预测值\n",
    "        if prediction == test_label_tensor[i]:\n",
    "            accuracy += 1\n",
    "    Accuracy = accuracy/2007\n",
    "    swanlab.log({\"Accurary\":Accuracy})\n",
    "    if k==1:\n",
    "        print(f\"k={k}时，Iris数据集的最近邻准确率为：\",Accuracy)\n",
    "    else:\n",
    "        print(f\"k={k}时，Iris数据集的k近邻准确率为：\",Accuracy)\n",
    "   # print(\"USPS数据集的最近邻准确率为:\",Accuracy)\n",
    "    return Accuracy\n",
    "\n",
    "Res = torch.zeros(20,device=device)\n",
    "\n",
    "for m in range(2):\n",
    "    k = m+1\n",
    "    Res[m] = k_nn(train_data_tensor,train_label_tensor,test_data_tensor,test_label_tensor)\n",
    "\n",
    "\n",
    "# 绘制 k与分类准确率的图像\n",
    "import matplotlib.pyplot as plt\n",
    "\n",
    "x = torch.arange(1,21,1,device=device)\n",
    "x_cpu = x.cpu().numpy()\n",
    "Res_cpu = Res.cpu().numpy()\n",
    "plt.xlabel('k')\n",
    "plt.ylabel('Accuracy')\n",
    "plt.ylim((0.5,1))            # y坐标的范围\n",
    "#画图\n",
    "plt.plot(x_cpu,Res_cpu,'r')\n",
    "\n",
    "plt.savefig(\"result/KNN_Usps_GPU.jpg\",dpi=2000)\n",
    "\n"
   ]
  }
 ],
 "metadata": {
  "kernelspec": {
   "display_name": "pytorch",
   "language": "python",
   "name": "python3"
  },
  "language_info": {
   "codemirror_mode": {
    "name": "ipython",
    "version": 3
   },
   "file_extension": ".py",
   "mimetype": "text/x-python",
   "name": "python",
   "nbconvert_exporter": "python",
   "pygments_lexer": "ipython3",
   "version": "3.10.12"
  }
 },
 "nbformat": 4,
 "nbformat_minor": 2
}
