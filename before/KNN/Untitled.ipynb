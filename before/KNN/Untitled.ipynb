{
 "cells": [
  {
   "cell_type": "code",
   "execution_count": 2,
   "metadata": {},
   "outputs": [
    {
     "data": {
      "text/plain": [
       "2    50\n",
       "0    49\n",
       "1    48\n",
       "Name: class, dtype: int64"
      ]
     },
     "execution_count": 2,
     "metadata": {},
     "output_type": "execute_result"
    }
   ],
   "source": [
    "import numpy as np\n",
    "import pandas as pd\n",
    "data  = pd.read_csv(r\"iris.arff.csv\",header =0)\n",
    "# data.head(10)  头十\n",
    "# data.tail()  尾5\n",
    "# data.sample() 随机抽。默认1，可调\n",
    "data[\"class\"]= data[\"class\"].map({\"Iris-virginica\":0,\"Iris-setosa\":1,\"Iris-versicolor\":2} )\n",
    "# data.drop(\"Id\",axis=1,inplace=True)\n",
    "data.drop_duplicates(inplace=True)\n",
    "data[\"class\"].value_counts()"
   ]
  },
  {
   "cell_type": "code",
   "execution_count": 5,
   "metadata": {},
   "outputs": [
    {
     "ename": "SyntaxError",
     "evalue": "invalid syntax (TEMPFI~1/ipykernel_11984/3155593462.py, line 23)",
     "output_type": "error",
     "traceback": [
      "\u001b[1;36m  File \u001b[1;32m\"D:\\TEMPFI~1/ipykernel_11984/3155593462.py\"\u001b[1;36m, line \u001b[1;32m23\u001b[0m\n\u001b[1;33m    X = np.asarray(X)\u001b[0m\n\u001b[1;37m    ^\u001b[0m\n\u001b[1;31mSyntaxError\u001b[0m\u001b[1;31m:\u001b[0m invalid syntax\n"
     ]
    }
   ],
   "source": [
    "class KNN:\n",
    "    '''使用python实现K近邻（分类）'''\n",
    "    def _init_(self,k):\n",
    "        '''初始化方法'''\n",
    "        \n",
    "    def fit(self,X,y):\n",
    "        '''训练方法\n",
    "        \n",
    "        \n",
    "    X:类数组类型，形状为:[样本数量，特征数量]\n",
    "      待训练的样本特征（属性）\n",
    "    \n",
    "    \n",
    "    y:类数组类型，形状为：【样本数量】\n",
    "    每个样本的目标值（标签）'''\n",
    "    self.X = np.asarray(X)\n",
    "    self.y = np.asarray(y)\n",
    "   \n",
    "    def predict(self,X:\n",
    "    ''' X:类数组类型，形状为:[样本数量，特征数量]\n",
    "      待训练的样本特征（属性）'''\n",
    "    \n",
    "    X = np.asarray(X)\n",
    "    result = []\n",
    "    for x in  X:\n",
    "        #对于测试集中的每一个样本，依次与训练集中所有样本求距离\n",
    "        dis = np.sqrt(np.sum((x - self.X)**2,axis = 1))\n",
    "        #返回数组排序后，每个元素在原数组中的索引\n",
    "        index = dis.argsort()\n",
    "        #进行截断，只取前K个数，【去距离最近的k个元素索引】\n",
    "        index = index[:self.k]\n",
    "        #返回数组中每个元素出现的次数，元素必须是非负的整数\n",
    "        count = np.bincount(self.y[index])\n",
    "        #返回ndarray数组中，值最大的元素对应的索引，该索引就是我们判定的类别\n",
    "        #最大元素索引，就是出现次数最多的元素\n",
    "        result.append(count.argmax())\n",
    "    return np.asarray(result)\n"
   ]
  },
  {
   "cell_type": "code",
   "execution_count": 4,
   "metadata": {},
   "outputs": [
    {
     "ename": "SyntaxError",
     "evalue": "invalid syntax (TEMPFI~1/ipykernel_11984/3603646398.py, line 2)",
     "output_type": "error",
     "traceback": [
      "\u001b[1;36m  File \u001b[1;32m\"D:\\TEMPFI~1/ipykernel_11984/3603646398.py\"\u001b[1;36m, line \u001b[1;32m2\u001b[0m\n\u001b[1;33m    t1 = data[data[class] == 0]\u001b[0m\n\u001b[1;37m                   ^\u001b[0m\n\u001b[1;31mSyntaxError\u001b[0m\u001b[1;31m:\u001b[0m invalid syntax\n"
     ]
    }
   ],
   "source": [
    "#提取出每个类别的鸢尾花数据\n",
    "t1 = data[data[class] == 0]\n",
    "t2 = data[data[class] == 1]\n",
    "t3 = data[data[class] == 2]\n",
    "#对每个类别数据进行洗牌\n",
    "t0 = t0.sample(len(t0),random_state =0 )\n",
    "t1 = t1.sample(len(t1),random_state =0)\n",
    "t2 = t2.sample(len(t2),random_state =0)\n",
    "train_X = pd.concat([t0.iloc[:40,:-1],t1.iloc[:40,:-1],t2.iloc[:40,:-1]],axis=0)\n",
    "train_y = pd.concat([t0.iloc[:40,-1],t1.iloc[:40,-1],t2.iloc[:40,-1]],axis=0)\n",
    "test_X = pd.concat([t0.iloc[40:,:-1],t1.iloc[40:,:-1],t2.iloc[40:,:-1]],axis=0)\n",
    "test_y = pd.concat([t0.iloc[40:,-1],t1.iloc[40:,-1],t2.iloc[40:,-1]],axis=0)\n",
    "#创建KNN对象，进行训练和测试\n",
    "knn = KNN(k=3)\n",
    "#进行训练\n",
    "knn.fit(train_X,train_y)\n",
    "#进行测试，获得测试结果\n",
    "result = knn.predict(test_X)\n",
    "display(result)\n",
    "display(test_y)"
   ]
  },
  {
   "cell_type": "code",
   "execution_count": 3,
   "metadata": {},
   "outputs": [],
   "source": [
    "a = np.array([[[1,2,3,2],[1,2,3,1],[2,3,4,1]],[[1,0,2,0],[2,1,2,0],[2,1,1,1]]])\n"
   ]
  },
  {
   "cell_type": "code",
   "execution_count": 4,
   "metadata": {},
   "outputs": [
    {
     "data": {
      "text/plain": [
       "array([[[1, 2, 3, 2],\n",
       "        [1, 2, 3, 1],\n",
       "        [2, 3, 4, 1]],\n",
       "\n",
       "       [[1, 0, 2, 0],\n",
       "        [2, 1, 2, 0],\n",
       "        [2, 1, 1, 1]]])"
      ]
     },
     "execution_count": 4,
     "metadata": {},
     "output_type": "execute_result"
    }
   ],
   "source": [
    "a"
   ]
  },
  {
   "cell_type": "code",
   "execution_count": 5,
   "metadata": {},
   "outputs": [
    {
     "data": {
      "text/plain": [
       "array([[2, 2, 5, 2],\n",
       "       [3, 3, 5, 1],\n",
       "       [4, 4, 5, 2]])"
      ]
     },
     "execution_count": 5,
     "metadata": {},
     "output_type": "execute_result"
    }
   ],
   "source": [
    "a.sum(axis=0)"
   ]
  },
  {
   "cell_type": "code",
   "execution_count": 6,
   "metadata": {},
   "outputs": [
    {
     "data": {
      "text/plain": [
       "array([[ 4,  7, 10,  4],\n",
       "       [ 5,  2,  5,  1]])"
      ]
     },
     "execution_count": 6,
     "metadata": {},
     "output_type": "execute_result"
    }
   ],
   "source": [
    "a.sum(axis=1)"
   ]
  },
  {
   "cell_type": "code",
   "execution_count": 7,
   "metadata": {},
   "outputs": [
    {
     "data": {
      "text/plain": [
       "array([[ 8,  7, 10],\n",
       "       [ 3,  5,  5]])"
      ]
     },
     "execution_count": 7,
     "metadata": {},
     "output_type": "execute_result"
    }
   ],
   "source": [
    "a.sum(axis=2)"
   ]
  },
  {
   "cell_type": "code",
   "execution_count": null,
   "metadata": {},
   "outputs": [],
   "source": []
  }
 ],
 "metadata": {
  "kernelspec": {
   "display_name": "Python [conda env:pytorch]",
   "language": "python",
   "name": "conda-env-pytorch-py"
  },
  "language_info": {
   "codemirror_mode": {
    "name": "ipython",
    "version": 3
   },
   "file_extension": ".py",
   "mimetype": "text/x-python",
   "name": "python",
   "nbconvert_exporter": "python",
   "pygments_lexer": "ipython3",
   "version": "3.9.7"
  }
 },
 "nbformat": 4,
 "nbformat_minor": 2
}
