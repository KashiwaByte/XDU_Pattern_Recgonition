{
 "cells": [
  {
   "cell_type": "code",
   "execution_count": null,
   "metadata": {},
   "outputs": [],
   "source": [
    "# Author:黄柏特\n",
    "# Time:2023.10.26"
   ]
  },
  {
   "cell_type": "code",
   "execution_count": 2,
   "metadata": {},
   "outputs": [],
   "source": [
    "#导入包\n",
    "import pandas as pd\n",
    "import numpy as np\n",
    "import matplotlib.pyplot as plt \n",
    "import seaborn as sns\n"
   ]
  },
  {
   "cell_type": "code",
   "execution_count": 5,
   "metadata": {},
   "outputs": [],
   "source": [
    "#导入数据集\n",
    "df = pd.read_csv('data/iris.data', header=0)\n",
    "\n",
    "Iris1=df.values[0:50,0:4]\n",
    "Iris2=df.values[50:100,0:4]\n",
    "Iris3=df.values[100:150,0:4]"
   ]
  },
  {
   "cell_type": "code",
   "execution_count": 6,
   "metadata": {},
   "outputs": [],
   "source": [
    "#定义类均值向量\n",
    "m1=np.mean(Iris1,axis=0)\n",
    "m2=np.mean(Iris2,axis=0)\n",
    "m3=np.mean(Iris3,axis=0)\n",
    "\n",
    "#定义类内离散度矩阵\n",
    "s1=np.zeros((4,4))\n",
    "s2=np.zeros((4,4))\n",
    "s3=np.zeros((4,4))\n",
    "for i in range(0,30,1):\n",
    "    a=Iris1[i,:]-m1\n",
    "    a=np.array([a])\n",
    "    b=a.T\n",
    "    s1=s1+np.dot(b,a)    \n",
    "for i in range(0,30,1):\n",
    "    c=Iris2[i,:]-m2\n",
    "    c=np.array([c])\n",
    "    d=c.T\n",
    "    s2=s2+np.dot(d,c) \n",
    "    #s2=s2+np.dot((Iris2[i,:]-m2).T,(Iris2[i,:]-m2))\n",
    "for i in range(0,30,1):\n",
    "    a=Iris3[i,:]-m3\n",
    "    a=np.array([a])\n",
    "    b=a.T\n",
    "    s3=s3+np.dot(b,a)\n",
    "    \n",
    "#定义总类内离散矩阵\n",
    "sw12 = s1 + s2;\n",
    "sw13 = s1 + s3;\n",
    "sw23 = s2 + s3;\n"
   ]
  },
  {
   "cell_type": "code",
   "execution_count": 8,
   "metadata": {},
   "outputs": [],
   "source": [
    "#定义投影方向\n",
    "a=np.array([m1-m2])\n",
    "sw12=np.array(sw12,dtype='float')\n",
    "sw13=np.array(sw13,dtype='float')\n",
    "sw23=np.array(sw23,dtype='float')\n",
    "#判别函数以及阈值T（即w0）\n",
    "a=m1-m2\n",
    "a=np.array([a])\n",
    "a=a.T\n",
    "b=m1-m3\n",
    "b=np.array([b])\n",
    "b=b.T\n",
    "c=m2-m3\n",
    "c=np.array([c])\n",
    "c=c.T\n",
    "w12=(np.dot(np.linalg.inv(sw12),a)).T\n",
    "w13=(np.dot(np.linalg.inv(sw13),b)).T\n",
    "w23=(np.dot(np.linalg.inv(sw23),c)).T\n",
    "T12=-0.5*(np.dot(np.dot((m1+m2),np.linalg.inv(sw12)),a))\n",
    "T13=-0.5*(np.dot(np.dot((m1+m3),np.linalg.inv(sw13)),b))\n",
    "T23=-0.5*(np.dot(np.dot((m2+m3),np.linalg.inv(sw23)),c))\n",
    "\n"
   ]
  },
  {
   "cell_type": "code",
   "execution_count": 19,
   "metadata": {},
   "outputs": [
    {
     "name": "stdout",
     "output_type": "stream",
     "text": [
      "Fisher正确率： 92.85714285714286 %\n"
     ]
    }
   ],
   "source": [
    "#计算正确率\n",
    "#数据分出三组，随机抽取\n",
    "kind1=0\n",
    "kind2=0\n",
    "kind3=0\n",
    "newiris1=[]\n",
    "newiris2=[]\n",
    "newiris3=[]\n",
    "for i in range(0,19):\n",
    "    x=Iris1[i,:]\n",
    "    x=np.array([x])\n",
    "    g12=np.dot(w12,x.T)+T12\n",
    "    g13=np.dot(w13,x.T)+T13\n",
    "    g23=np.dot(w23,x.T)+T23\n",
    "    if g12>0 and g13>0:\n",
    "        newiris1.extend(x)\n",
    "        kind1=kind1+1\n",
    "    elif g12<0 and g23>0:\n",
    "        newiris2.extend(x)\n",
    "    elif g13<0 and g23<0 :\n",
    "        newiris3.extend(x)\n",
    "\n",
    "for i in range(20,39):\n",
    "    x=Iris2[i,:]\n",
    "    x=np.array([x])\n",
    "    g12=np.dot(w12,x.T)+T12\n",
    "    g13=np.dot(w13,x.T)+T13\n",
    "    g23=np.dot(w23,x.T)+T23\n",
    "    if g12>0 and g13>0:\n",
    "        newiris1.extend(x)\n",
    "    elif g12<0 and g23>0:\n",
    "       \n",
    "        newiris2.extend(x)\n",
    "        kind2=kind2+1\n",
    "    elif g13<0 and g23<0 :\n",
    "        newiris3.extend(x)\n",
    "for i in range(20,49):\n",
    "    x=Iris3[i,:]\n",
    "    x=np.array([x])\n",
    "    g12=np.dot(w12,x.T)+T12\n",
    "    g13=np.dot(w13,x.T)+T13\n",
    "    g23=np.dot(w23,x.T)+T23\n",
    "    if g12>0 and g13>0:\n",
    "        newiris1.extend(x)\n",
    "    elif g12<0 and g23>0:     \n",
    "        newiris2.extend(x)\n",
    "    elif g13<0 and g23<0 :\n",
    "        newiris3.extend(x)\n",
    "        kind3=kind3+1\n",
    "correct=(kind1+kind2+kind3)/70\n",
    "\n",
    "print('Fisher正确率：',correct*100,'%')\n"
   ]
  },
  {
   "attachments": {},
   "cell_type": "markdown",
   "metadata": {},
   "source": [
    "\n"
   ]
  }
 ],
 "metadata": {
  "kernelspec": {
   "display_name": "base",
   "language": "python",
   "name": "python3"
  },
  "language_info": {
   "codemirror_mode": {
    "name": "ipython",
    "version": 3
   },
   "file_extension": ".py",
   "mimetype": "text/x-python",
   "name": "python",
   "nbconvert_exporter": "python",
   "pygments_lexer": "ipython3",
   "version": "3.9.12 (main, Apr  4 2022, 05:22:27) [MSC v.1916 64 bit (AMD64)]"
  },
  "orig_nbformat": 4,
  "vscode": {
   "interpreter": {
    "hash": "88279d2366fe020547cde40dd65aa0e3aa662a6ec1f3ca12d88834876c85e1a6"
   }
  }
 },
 "nbformat": 4,
 "nbformat_minor": 2
}
